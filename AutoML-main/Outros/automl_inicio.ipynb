{
 "cells": [
  {
   "cell_type": "code",
   "execution_count": 4,
   "id": "7771f82a",
   "metadata": {},
   "outputs": [
    {
     "name": "stdout",
     "output_type": "stream",
     "text": [
      "Requirement already satisfied: auto-sklearn in /home/pedro/meu_projeto/meu_projeto_env/lib/python3.8/site-packages (0.14.6)\n",
      "Requirement already satisfied: scikit-learn<0.25.0,>=0.24.0 in /home/pedro/meu_projeto/meu_projeto_env/lib/python3.8/site-packages (from auto-sklearn) (0.24.2)\n",
      "Requirement already satisfied: typing-extensions in /home/pedro/meu_projeto/meu_projeto_env/lib/python3.8/site-packages (from auto-sklearn) (4.1.1)\n",
      "Requirement already satisfied: threadpoolctl in /home/pedro/meu_projeto/meu_projeto_env/lib/python3.8/site-packages (from auto-sklearn) (3.1.0)\n",
      "Requirement already satisfied: setuptools in /home/pedro/meu_projeto/meu_projeto_env/lib/python3.8/site-packages (from auto-sklearn) (61.0.0)\n",
      "Requirement already satisfied: pyrfr<0.9,>=0.8.1 in /home/pedro/meu_projeto/meu_projeto_env/lib/python3.8/site-packages (from auto-sklearn) (0.8.2)\n",
      "Requirement already satisfied: ConfigSpace<0.5,>=0.4.14 in /home/pedro/meu_projeto/meu_projeto_env/lib/python3.8/site-packages (from auto-sklearn) (0.4.21)\n",
      "Requirement already satisfied: scipy>=1.7.0 in /home/pedro/meu_projeto/meu_projeto_env/lib/python3.8/site-packages (from auto-sklearn) (1.8.0)\n",
      "Requirement already satisfied: pyyaml in /home/pedro/meu_projeto/meu_projeto_env/lib/python3.8/site-packages (from auto-sklearn) (6.0)\n",
      "Requirement already satisfied: smac>=0.14 in /home/pedro/meu_projeto/meu_projeto_env/lib/python3.8/site-packages (from auto-sklearn) (1.2)\n",
      "Requirement already satisfied: pynisher>=0.6.3 in /home/pedro/meu_projeto/meu_projeto_env/lib/python3.8/site-packages (from auto-sklearn) (0.6.4)\n",
      "Requirement already satisfied: joblib in /home/pedro/meu_projeto/meu_projeto_env/lib/python3.8/site-packages (from auto-sklearn) (1.1.0)\n",
      "Requirement already satisfied: dask>=2021.12 in /home/pedro/meu_projeto/meu_projeto_env/lib/python3.8/site-packages (from auto-sklearn) (2022.4.0)\n",
      "Requirement already satisfied: distributed>=2012.12 in /home/pedro/meu_projeto/meu_projeto_env/lib/python3.8/site-packages (from auto-sklearn) (2022.4.0)\n",
      "Requirement already satisfied: pandas>=1.0 in /home/pedro/meu_projeto/meu_projeto_env/lib/python3.8/site-packages (from auto-sklearn) (1.4.2)\n",
      "Requirement already satisfied: liac-arff in /home/pedro/meu_projeto/meu_projeto_env/lib/python3.8/site-packages (from auto-sklearn) (2.5.0)\n",
      "Requirement already satisfied: numpy>=1.9.0 in /home/pedro/meu_projeto/meu_projeto_env/lib/python3.8/site-packages (from auto-sklearn) (1.22.3)\n",
      "Requirement already satisfied: distro in /home/pedro/meu_projeto/meu_projeto_env/lib/python3.8/site-packages (from auto-sklearn) (1.7.0)\n",
      "Requirement already satisfied: pyparsing in /home/pedro/meu_projeto/meu_projeto_env/lib/python3.8/site-packages (from ConfigSpace<0.5,>=0.4.14->auto-sklearn) (3.0.7)\n",
      "Requirement already satisfied: cython in /home/pedro/meu_projeto/meu_projeto_env/lib/python3.8/site-packages (from ConfigSpace<0.5,>=0.4.14->auto-sklearn) (0.29.28)\n",
      "Requirement already satisfied: cloudpickle>=1.1.1 in /home/pedro/meu_projeto/meu_projeto_env/lib/python3.8/site-packages (from dask>=2021.12->auto-sklearn) (2.0.0)\n",
      "Requirement already satisfied: fsspec>=0.6.0 in /home/pedro/meu_projeto/meu_projeto_env/lib/python3.8/site-packages (from dask>=2021.12->auto-sklearn) (2022.3.0)\n",
      "Requirement already satisfied: partd>=0.3.10 in /home/pedro/meu_projeto/meu_projeto_env/lib/python3.8/site-packages (from dask>=2021.12->auto-sklearn) (1.2.0)\n",
      "Requirement already satisfied: packaging>=20.0 in /home/pedro/meu_projeto/meu_projeto_env/lib/python3.8/site-packages (from dask>=2021.12->auto-sklearn) (21.3)\n",
      "Requirement already satisfied: toolz>=0.8.2 in /home/pedro/meu_projeto/meu_projeto_env/lib/python3.8/site-packages (from dask>=2021.12->auto-sklearn) (0.11.2)\n",
      "Requirement already satisfied: psutil>=5.0 in /home/pedro/meu_projeto/meu_projeto_env/lib/python3.8/site-packages (from distributed>=2012.12->auto-sklearn) (5.9.0)\n",
      "Requirement already satisfied: urllib3 in /home/pedro/meu_projeto/meu_projeto_env/lib/python3.8/site-packages (from distributed>=2012.12->auto-sklearn) (1.26.9)\n",
      "Requirement already satisfied: tornado>=6.0.3 in /home/pedro/meu_projeto/meu_projeto_env/lib/python3.8/site-packages (from distributed>=2012.12->auto-sklearn) (6.1)\n",
      "Requirement already satisfied: zict>=0.1.3 in /home/pedro/meu_projeto/meu_projeto_env/lib/python3.8/site-packages (from distributed>=2012.12->auto-sklearn) (2.1.0)\n",
      "Requirement already satisfied: jinja2 in /home/pedro/meu_projeto/meu_projeto_env/lib/python3.8/site-packages (from distributed>=2012.12->auto-sklearn) (3.1.1)\n",
      "Requirement already satisfied: click>=6.6 in /home/pedro/meu_projeto/meu_projeto_env/lib/python3.8/site-packages (from distributed>=2012.12->auto-sklearn) (8.1.2)\n",
      "Requirement already satisfied: tblib>=1.6.0 in /home/pedro/meu_projeto/meu_projeto_env/lib/python3.8/site-packages (from distributed>=2012.12->auto-sklearn) (1.7.0)\n",
      "Requirement already satisfied: sortedcontainers!=2.0.0,!=2.0.1 in /home/pedro/meu_projeto/meu_projeto_env/lib/python3.8/site-packages (from distributed>=2012.12->auto-sklearn) (2.4.0)\n",
      "Requirement already satisfied: msgpack>=0.6.0 in /home/pedro/meu_projeto/meu_projeto_env/lib/python3.8/site-packages (from distributed>=2012.12->auto-sklearn) (1.0.3)\n",
      "Requirement already satisfied: python-dateutil>=2.8.1 in /home/pedro/meu_projeto/meu_projeto_env/lib/python3.8/site-packages (from pandas>=1.0->auto-sklearn) (2.8.2)\n",
      "Requirement already satisfied: pytz>=2020.1 in /home/pedro/meu_projeto/meu_projeto_env/lib/python3.8/site-packages (from pandas>=1.0->auto-sklearn) (2022.1)\n",
      "Requirement already satisfied: emcee>=3.0.0 in /home/pedro/meu_projeto/meu_projeto_env/lib/python3.8/site-packages (from smac>=0.14->auto-sklearn) (3.1.1)\n",
      "Requirement already satisfied: locket in /home/pedro/meu_projeto/meu_projeto_env/lib/python3.8/site-packages (from partd>=0.3.10->dask>=2021.12->auto-sklearn) (0.2.1)\n",
      "Requirement already satisfied: six>=1.5 in /home/pedro/meu_projeto/meu_projeto_env/lib/python3.8/site-packages (from python-dateutil>=2.8.1->pandas>=1.0->auto-sklearn) (1.16.0)\n",
      "Requirement already satisfied: heapdict in /home/pedro/meu_projeto/meu_projeto_env/lib/python3.8/site-packages (from zict>=0.1.3->distributed>=2012.12->auto-sklearn) (1.0.1)\n",
      "Requirement already satisfied: MarkupSafe>=2.0 in /home/pedro/meu_projeto/meu_projeto_env/lib/python3.8/site-packages (from jinja2->distributed>=2012.12->auto-sklearn) (2.1.1)\n"
     ]
    }
   ],
   "source": [
    "!pip install auto-sklearn\n",
    "import sklearn.datasets\n",
    "import sklearn.model_selection\n",
    "\n",
    "\n",
    "X, y = sklearn.datasets.fetch_openml('credit-g', as_frame=True, return_X_y=True)\n",
    "X_train, X_test, y_train, y_test = sklearn.model_selection.train_test_split(X,y, random_state =42)\n"
   ]
  },
  {
   "cell_type": "code",
   "execution_count": 10,
   "id": "7fdfdaec",
   "metadata": {},
   "outputs": [],
   "source": [
    "from sklearn.compose import ColumnTransformer\n",
    "from sklearn.metrics import roc_auc_score\n",
    "from sklearn.pipeline import Pipeline\n",
    "\n",
    "\n",
    "\n"
   ]
  },
  {
   "cell_type": "code",
   "execution_count": 12,
   "id": "c73a1823",
   "metadata": {},
   "outputs": [
    {
     "ename": "TypeError",
     "evalue": "__init__() got an unexpected keyword argument 'handle_uknown'",
     "output_type": "error",
     "traceback": [
      "\u001b[0;31m---------------------------------------------------------------------------\u001b[0m",
      "\u001b[0;31mTypeError\u001b[0m                                 Traceback (most recent call last)",
      "Input \u001b[0;32mIn [12]\u001b[0m, in \u001b[0;36m<cell line: 7>\u001b[0;34m()\u001b[0m\n\u001b[1;32m      4\u001b[0m \u001b[38;5;66;03m#criação de uma \"Decision tree\" simples sem especificar parametros\u001b[39;00m\n\u001b[1;32m      5\u001b[0m estimator_dt \u001b[38;5;241m=\u001b[39m DecisionTreeClassifier()\n\u001b[1;32m      7\u001b[0m encoder \u001b[38;5;241m=\u001b[39m ColumnTransformer(\n\u001b[1;32m      8\u001b[0m     transformers\u001b[38;5;241m=\u001b[39m[\n\u001b[0;32m----> 9\u001b[0m         (\u001b[38;5;124m'\u001b[39m\u001b[38;5;124mcat\u001b[39m\u001b[38;5;124m'\u001b[39m, \u001b[43mOrdinalEncoder\u001b[49m\u001b[43m(\u001b[49m\u001b[43mhandle_uknown\u001b[49m\u001b[38;5;241;43m=\u001b[39;49m\u001b[38;5;124;43m'\u001b[39;49m\u001b[38;5;124;43mignore\u001b[39;49m\u001b[38;5;124;43m'\u001b[39;49m\u001b[43m)\u001b[49m, X\u001b[38;5;241m.\u001b[39mdtypes \u001b[38;5;241m==\u001b[39m \u001b[38;5;124m\"\u001b[39m\u001b[38;5;124mcategory\u001b[39m\u001b[38;5;124m\"\u001b[39m)\n\u001b[1;32m     10\u001b[0m     ],\n\u001b[1;32m     11\u001b[0m     remainder\u001b[38;5;241m=\u001b[39m\u001b[38;5;124m'\u001b[39m\u001b[38;5;124mpassthrough\u001b[39m\u001b[38;5;124m'\u001b[39m,\n\u001b[1;32m     12\u001b[0m )\n\u001b[1;32m     13\u001b[0m pipeline_dt\u001b[38;5;241m.\u001b[39mfit(X_train, y_train)\n\u001b[1;32m     15\u001b[0m \u001b[38;5;66;03m#score do parametro\u001b[39;00m\n",
      "File \u001b[0;32m~/meu_projeto/meu_projeto_env/lib/python3.8/site-packages/sklearn/utils/validation.py:63\u001b[0m, in \u001b[0;36m_deprecate_positional_args.<locals>._inner_deprecate_positional_args.<locals>.inner_f\u001b[0;34m(*args, **kwargs)\u001b[0m\n\u001b[1;32m     61\u001b[0m extra_args \u001b[38;5;241m=\u001b[39m \u001b[38;5;28mlen\u001b[39m(args) \u001b[38;5;241m-\u001b[39m \u001b[38;5;28mlen\u001b[39m(all_args)\n\u001b[1;32m     62\u001b[0m \u001b[38;5;28;01mif\u001b[39;00m extra_args \u001b[38;5;241m<\u001b[39m\u001b[38;5;241m=\u001b[39m \u001b[38;5;241m0\u001b[39m:\n\u001b[0;32m---> 63\u001b[0m     \u001b[38;5;28;01mreturn\u001b[39;00m \u001b[43mf\u001b[49m\u001b[43m(\u001b[49m\u001b[38;5;241;43m*\u001b[39;49m\u001b[43margs\u001b[49m\u001b[43m,\u001b[49m\u001b[43m \u001b[49m\u001b[38;5;241;43m*\u001b[39;49m\u001b[38;5;241;43m*\u001b[39;49m\u001b[43mkwargs\u001b[49m\u001b[43m)\u001b[49m\n\u001b[1;32m     65\u001b[0m \u001b[38;5;66;03m# extra_args > 0\u001b[39;00m\n\u001b[1;32m     66\u001b[0m args_msg \u001b[38;5;241m=\u001b[39m [\u001b[38;5;124m'\u001b[39m\u001b[38;5;132;01m{}\u001b[39;00m\u001b[38;5;124m=\u001b[39m\u001b[38;5;132;01m{}\u001b[39;00m\u001b[38;5;124m'\u001b[39m\u001b[38;5;241m.\u001b[39mformat(name, arg)\n\u001b[1;32m     67\u001b[0m             \u001b[38;5;28;01mfor\u001b[39;00m name, arg \u001b[38;5;129;01min\u001b[39;00m \u001b[38;5;28mzip\u001b[39m(kwonly_args[:extra_args],\n\u001b[1;32m     68\u001b[0m                                  args[\u001b[38;5;241m-\u001b[39mextra_args:])]\n",
      "\u001b[0;31mTypeError\u001b[0m: __init__() got an unexpected keyword argument 'handle_uknown'"
     ]
    }
   ],
   "source": [
    "from sklearn.tree import DecisionTreeClassifier\n",
    "from sklearn.preprocessing import OrdinalEncoder\n",
    "\n",
    "#criação de uma \"Decision tree\" simples sem especificar parametros\n",
    "estimator_dt = DecisionTreeClassifier()\n",
    "\n",
    "encoder = ColumnTransformer(\n",
    "    transformers=[\n",
    "        ('cat', OrdinalEncoder(handle_uknown='ignore'), X.dtypes == \"category\")\n",
    "    ],\n",
    "    remainder='passthrough',\n",
    ")\n",
    "pipeline_dt.fit(X_train, y_train)\n",
    "\n",
    "#score do parametro\n",
    "prediction=pipeline_dt.predict_prova(X_test)\n",
    "#Como as colunas do dataset estão \"inbalence\" ou não balanceadas assim com mais \n",
    "#dados em uma categoria do que outra devemos tratála\n",
    "performance_dt=roc_auc_score(y_test, prediction[:, 1])\n",
    "print(f\"Decision Tree Performance is {performance_dt}\")\n"
   ]
  }
 ],
 "metadata": {
  "kernelspec": {
   "display_name": "Python 3 (ipykernel)",
   "language": "python",
   "name": "python3"
  },
  "language_info": {
   "codemirror_mode": {
    "name": "ipython",
    "version": 3
   },
   "file_extension": ".py",
   "mimetype": "text/x-python",
   "name": "python",
   "nbconvert_exporter": "python",
   "pygments_lexer": "ipython3",
   "version": "3.8.10"
  }
 },
 "nbformat": 4,
 "nbformat_minor": 5
}
